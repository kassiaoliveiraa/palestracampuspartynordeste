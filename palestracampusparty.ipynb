{
  "nbformat": 4,
  "nbformat_minor": 0,
  "metadata": {
    "colab": {
      "provenance": [],
      "authorship_tag": "ABX9TyNzfZDIktpt1TG4gm1LU9nF",
      "include_colab_link": true
    },
    "kernelspec": {
      "name": "python3",
      "display_name": "Python 3"
    },
    "language_info": {
      "name": "python"
    }
  },
  "cells": [
    {
      "cell_type": "markdown",
      "metadata": {
        "id": "view-in-github",
        "colab_type": "text"
      },
      "source": [
        "<a href=\"https://colab.research.google.com/github/kassiaoliveiraa/palestracampuspartynordeste/blob/main/palestracampusparty.ipynb\" target=\"_parent\"><img src=\"https://colab.research.google.com/assets/colab-badge.svg\" alt=\"Open In Colab\"/></a>"
      ]
    },
    {
      "cell_type": "code",
      "execution_count": 1,
      "metadata": {
        "id": "ZluslKEa1-Mv",
        "colab": {
          "base_uri": "https://localhost:8080/"
        },
        "outputId": "0efc00ab-d913-4529-e055-5c5f870311ea"
      },
      "outputs": [
        {
          "output_type": "stream",
          "name": "stdout",
          "text": [
            "Requirement already satisfied: pyspark in /usr/local/lib/python3.10/dist-packages (3.5.2)\n",
            "Requirement already satisfied: py4j==0.10.9.7 in /usr/local/lib/python3.10/dist-packages (from pyspark) (0.10.9.7)\n",
            "Requirement already satisfied: pyarrow in /usr/local/lib/python3.10/dist-packages (14.0.2)\n",
            "Requirement already satisfied: numpy>=1.16.6 in /usr/local/lib/python3.10/dist-packages (from pyarrow) (1.26.4)\n",
            "Requirement already satisfied: pandas in /usr/local/lib/python3.10/dist-packages (2.1.4)\n",
            "Requirement already satisfied: numpy<2,>=1.22.4 in /usr/local/lib/python3.10/dist-packages (from pandas) (1.26.4)\n",
            "Requirement already satisfied: python-dateutil>=2.8.2 in /usr/local/lib/python3.10/dist-packages (from pandas) (2.8.2)\n",
            "Requirement already satisfied: pytz>=2020.1 in /usr/local/lib/python3.10/dist-packages (from pandas) (2024.1)\n",
            "Requirement already satisfied: tzdata>=2022.1 in /usr/local/lib/python3.10/dist-packages (from pandas) (2024.1)\n",
            "Requirement already satisfied: six>=1.5 in /usr/local/lib/python3.10/dist-packages (from python-dateutil>=2.8.2->pandas) (1.16.0)\n"
          ]
        }
      ],
      "source": [
        "!pip install pyspark\n",
        "!pip install pyarrow\n",
        "!pip install pandas"
      ]
    },
    {
      "cell_type": "code",
      "source": [
        "from pyspark.sql import SparkSession\n",
        "import pandas as pd\n",
        "import os\n",
        "import shutil\n",
        "\n",
        "spark = SparkSession.builder.appName(\"ETL\").getOrCreate()"
      ],
      "metadata": {
        "id": "9ps226HKpiFS"
      },
      "execution_count": 2,
      "outputs": []
    },
    {
      "cell_type": "code",
      "source": [
        "#Tamanho do Arquivo CSV\n",
        "\n",
        "file_path = \"/home/etl/processo_inicio_1990.csv\"\n",
        "file_size_bytes = os.path.getsize(file_path)\n",
        "file_size_kb = file_size_bytes / 1024\n",
        "\n",
        "print(f\"O tamanho do arquivo é {file_size_kb:.2f} KB\")"
      ],
      "metadata": {
        "id": "xI1Rv9FHpmwI"
      },
      "execution_count": null,
      "outputs": []
    },
    {
      "cell_type": "code",
      "source": [
        "df = spark.read \\\n",
        "    .format(\"csv\") \\\n",
        "    .option(\"header\", \"true\") \\\n",
        "    .option(\"inferSchema\", \"true\") \\\n",
        "    .option(\"sep\", \";\") \\\n",
        "    .load(\"/home/etl/processo_inicio_1990.csv\")\n",
        "\n",
        "df.show()"
      ],
      "metadata": {
        "colab": {
          "base_uri": "https://localhost:8080/"
        },
        "id": "BLiyjoWbqoR6",
        "outputId": "ffcf95cc-fb96-4d30-c0f3-7dcb3bbcb4b3"
      },
      "execution_count": 4,
      "outputs": [
        {
          "output_type": "stream",
          "name": "stdout",
          "text": [
            "+----------+--------------------+--------------------+----------+---------+--------------------+----------+--------------------+-------+--------------------+--------------------+\n",
            "|DTABERTURA|             NUMPROC|             ASSUNTO|   DTMOVIM|CODORIGEM|             DESCORI|CODDESTINO|          DESCDESTIN|MOVSTAT|         INTERESSADO|         PROCEDENCIA|\n",
            "+----------+--------------------+--------------------+----------+---------+--------------------+----------+--------------------+-------+--------------------+--------------------+\n",
            "|1993-04-13|00000.001433/1983...|        -        ...|1993-08-03| 20002230|SECAO DE PROTOCOL...|  36000000|PROCURADORIA FEDE...|      S|                 ...|                 ...|\n",
            "|1992-11-30|00000.000519/1985...|        -        ...|1993-05-28| 20002230|SECAO DE PROTOCOL...|  36000000|PROCURADORIA FEDE...|      S|                 ...|                 ...|\n",
            "|1988-11-14|00001.005652/1988...|        -        ...|1998-10-23|  2000000|DIRETORIA DE ADMI...|  20003000|DEPARTAMENTO ECON...|      N|                 ...|                 ...|\n",
            "|1989-11-24|00001.003818/1989...|        -        ...|1990-01-19| 20002230|SECAO DE PROTOCOL...|  39000000|ORGAO GOVERNAMENT...|      S|                 ...|                 ...|\n",
            "|1991-01-21|00003.005087/1987...|        -        ...|1991-01-21| 20002230|SECAO DE PROTOCOL...|  20000000|DIRETORIA DE ADMI...|      S|                 ...|                 ...|\n",
            "|1991-01-18|00003.005094/1987...|        -        ...|1991-01-21| 20002230|SECAO DE PROTOCOL...|  20000000|DIRETORIA DE ADMI...|      S|                 ...|                 ...|\n",
            "|1989-10-16|00003.100964/1989...|        -        ...|1989-11-27| 20002230|SECAO DE PROTOCOL...|   1000000|PRESIDENCIA DA FI...|      S|                 ...|                 ...|\n",
            "|1990-01-31|00007.200172/1989...|        -        ...|1990-04-12| 20002230|SECAO DE PROTOCOL...|  39000000|ORGAO GOVERNAMENT...|      S|                 ...|                 ...|\n",
            "|1992-08-31|00007.202106/1990...|        -        ...|1992-10-15| 20002230|SECAO DE PROTOCOL...|   1000000|PRESIDENCIA DA FI...|      S|                 ...|                 ...|\n",
            "|1984-07-30|00008.012109/1984...|        -        ...|1999-05-12| 39000000|ORGAO GOVERNAMENT...|  16004120|SERVICO DE APOSEN...|      S|                 ...|                 ...|\n",
            "|1994-11-08|00008.019951/1984...|        -        ...|1999-05-12| 39000000|ORGAO GOVERNAMENT...|  16004120|SERVICO DE APOSEN...|      S|                 ...|                 ...|\n",
            "|1985-11-12|00008.009583/1985...|        -        ...|1992-04-23| 20002230|SECAO DE PROTOCOL...|  39000000|ORGAO GOVERNAMENT...|      S|                 ...|                 ...|\n",
            "|1985-10-02|00008.307706/1985...|022.513 -LICENCA ...|2007-04-25|  7006130|SETOR RECURSOS HU...|   7007320|COORD. DE D. E. E...|      E|LIA RIBEIRO DE SO...|INSTITUTO DE ASSI...|\n",
            "|1988-08-25|00009.031055/1988...|022.513 -LICENCA ...|1989-03-31| 20002230|SECAO DE PROTOCOL...|  65000000|INST.NAC.CONTROLE...|      S|LIA RIBEIRO DE SO...|                 ...|\n",
            "|1989-12-06|00009.027873/1989...|022.513 -LICENCA ...|1989-12-06| 20002230|SECAO DE PROTOCOL...|   5003200|HOSPITAL EVANDRO ...|      S|LIA RIBEIRO DE SO...|                 ...|\n",
            "|1989-12-27|00009.032203/1989...|022.513 -LICENCA ...|1990-03-23| 20002230|SECAO DE PROTOCOL...|   3000000|DIRETORIA REGIONA...|      S|LIA RIBEIRO DE SO...|                 ...|\n",
            "|1984-10-04|00012.004002/1984...|022.513 -LICENCA ...|1997-10-13| 20002230|SECAO DE PROTOCOL...|  20001230|SECAO DE ARQUIVO ...|      A|LIA RIBEIRO DE SO...|                 ...|\n",
            "|1988-07-12|00012.003218/1988...|022.513 -LICENCA ...|1997-10-13| 20002230|SECAO DE PROTOCOL...|  20001230|SECAO DE ARQUIVO ...|      A|LIA RIBEIRO DE SO...|                 ...|\n",
            "|1988-10-07|00012.005223/1988...|022.513 -LICENCA ...|1997-10-13| 20002230|SECAO DE PROTOCOL...|  20001230|SECAO DE ARQUIVO ...|      A|LIA RIBEIRO DE SO...|                 ...|\n",
            "|1981-12-22|00020.003408/1981...|022.513 -LICENCA ...|1992-01-17| 20002230|SECAO DE PROTOCOL...|   8101600|SERVICO DE ADM. D...|      S|LIA RIBEIRO DE SO...|                 ...|\n",
            "+----------+--------------------+--------------------+----------+---------+--------------------+----------+--------------------+-------+--------------------+--------------------+\n",
            "only showing top 20 rows\n",
            "\n"
          ]
        }
      ]
    },
    {
      "cell_type": "code",
      "source": [
        "df.createOrReplaceTempView(\"processos\")\n",
        "\n",
        "queryCount = \"\"\"\n",
        "SELECT count(*) AS count\n",
        "FROM processos\n",
        "\"\"\"\n",
        "\n",
        "queryprocAno = \"\"\"\n",
        "SELECT count(*) AS count, DTABERTURA\n",
        "FROM processos\n",
        "GROUP BY DTABERTURA\n",
        "\"\"\"\n",
        "\n",
        "result = spark.sql(queryCount)\n",
        "\n",
        "result.show()"
      ],
      "metadata": {
        "colab": {
          "base_uri": "https://localhost:8080/"
        },
        "id": "aX52vcf2rLNJ",
        "outputId": "731009f3-cf94-4a8f-8fb4-512801be9fdf"
      },
      "execution_count": 5,
      "outputs": [
        {
          "output_type": "stream",
          "name": "stdout",
          "text": [
            "+-----+\n",
            "|count|\n",
            "+-----+\n",
            "|51621|\n",
            "+-----+\n",
            "\n"
          ]
        }
      ]
    },
    {
      "cell_type": "code",
      "source": [
        "df_1994 = df.filter(df[\"DTABERTURA\"].contains(\"1993\"))\n",
        "\n",
        "df_1994.show()\n",
        "\n",
        "df_Aposentados2000 = df.filter(df[\"ASSUNTO\"].contains(\"APOSENTADORIA\") & df[\"DTABERTURA\"].contains(\"1989\"))\n",
        "\n",
        "df_Aposentados2000.show()"
      ],
      "metadata": {
        "id": "qgFFVe__4pUH",
        "outputId": "2fdb9b5a-b70e-4f0a-947e-6cc1b897ccfd",
        "colab": {
          "base_uri": "https://localhost:8080/"
        }
      },
      "execution_count": 9,
      "outputs": [
        {
          "output_type": "stream",
          "name": "stdout",
          "text": [
            "+----------+--------------------+--------------------+----------+---------+--------------------+----------+--------------------+-------+--------------------+--------------------+\n",
            "|DTABERTURA|             NUMPROC|             ASSUNTO|   DTMOVIM|CODORIGEM|             DESCORI|CODDESTINO|          DESCDESTIN|MOVSTAT|         INTERESSADO|         PROCEDENCIA|\n",
            "+----------+--------------------+--------------------+----------+---------+--------------------+----------+--------------------+-------+--------------------+--------------------+\n",
            "|1993-04-13|00000.001433/1983...|        -        ...|1993-08-03| 20002230|SECAO DE PROTOCOL...|  36000000|PROCURADORIA FEDE...|      S|                 ...|                 ...|\n",
            "|1993-05-26|25001.010173/1970...|029.    -OUTROS A...|1997-06-23| 65000000|INST.NAC.CONTROLE...|  39000000|ORGAO GOVERNAMENT...|      S|MONICA BRAGA TEIX...|                 ...|\n",
            "|1993-04-26|25380.002190/ 193...|013.5   -INQUERIT...|2016-07-29| 20001210|SECAO DE PROTOCOL...|  20001230|SECAO DE ARQUIVO ...|      E|ABEL DIAS FERREIR...|                 ...|\n",
            "|1993-05-05|25380.004792/1987...|025.1   -INSALUBR...|1991-05-29| 20002230|SECAO DE PROTOCOL...|         0|_TODOS           ...|      S|REGINA VALENTIM D...|                 ...|\n",
            "|1993-05-05|25380.004792/1987...|025.1   -INSALUBR...|1991-05-29| 20002230|SECAO DE PROTOCOL...|         0|_TODOS           ...|      S|REGINA VALENTIM D...|                 ...|\n",
            "|1993-05-05|25380.004792/1987...|025.1   -INSALUBR...|1996-01-29| 20002220|SECAO DE ARQUIVO ...|  20005200|SERVICO DE PATRIM...|      N|REGINA VALENTIM D...|                 ...|\n",
            "|1993-05-05|25380.004792/1987...|025.1   -INSALUBR...|1996-01-29| 20002220|SECAO DE ARQUIVO ...|  20005200|SERVICO DE PATRIM...|      N|REGINA VALENTIM D...|                 ...|\n",
            "|1993-03-09|25380.000537/1989...|024.3   -DESVIO D...|2009-02-12| 35000000|AUDITORIA INTERNA...|  20001230|SECAO DE ARQUIVO ...|      A|LUIZ DIAS DE ANDR...|                 ...|\n",
            "|1993-03-09|25380.000537/1989...|024.3   -DESVIO D...|2009-02-12| 35000000|AUDITORIA INTERNA...|  20001230|SECAO DE ARQUIVO ...|      A|LUIZ DIAS DE ANDR...|                 ...|\n",
            "|1993-03-09|25380.000537/1989...|024.3   -DESVIO D...|2009-02-12| 35000000|AUDITORIA INTERNA...|  20001230|SECAO DE ARQUIVO ...|      A|LUIZ DIAS DE ANDR...|                 ...|\n",
            "|1993-03-09|25380.000537/1989...|024.3   -DESVIO D...|2009-02-12| 35000000|AUDITORIA INTERNA...|  20001230|SECAO DE ARQUIVO ...|      A|LUIZ DIAS DE ANDR...|                 ...|\n",
            "|1993-03-09|25380.000537/1989...|024.3   -DESVIO D...|2009-02-12| 35000000|AUDITORIA INTERNA...|  20001230|SECAO DE ARQUIVO ...|      A|LUIZ DIAS DE ANDR...|                 ...|\n",
            "|1993-03-09|25380.000537/1989...|024.3   -DESVIO D...|2009-02-12| 35000000|AUDITORIA INTERNA...|  20001230|SECAO DE ARQUIVO ...|      A|LUIZ DIAS DE ANDR...|                 ...|\n",
            "|1993-03-09|25380.000537/1989...|024.3   -DESVIO D...|2009-02-12| 35000000|AUDITORIA INTERNA...|  20001230|SECAO DE ARQUIVO ...|      A|LUIZ DIAS DE ANDR...|                 ...|\n",
            "|1993-03-09|25380.000537/1989...|024.3   -DESVIO D...|2009-02-12| 35000000|AUDITORIA INTERNA...|  20001230|SECAO DE ARQUIVO ...|      A|LUIZ DIAS DE ANDR...|                 ...|\n",
            "|1993-03-09|25380.000537/1989...|024.3   -DESVIO D...|2009-02-12| 35000000|AUDITORIA INTERNA...|  20001230|SECAO DE ARQUIVO ...|      A|LUIZ DIAS DE ANDR...|                 ...|\n",
            "|1993-03-09|25380.000537/1989...|024.3   -DESVIO D...|2009-02-12| 35000000|AUDITORIA INTERNA...|  20001230|SECAO DE ARQUIVO ...|      A|LUIZ DIAS DE ANDR...|                 ...|\n",
            "|1993-03-09|25380.000537/1989...|024.3   -DESVIO D...|2009-02-12| 35000000|AUDITORIA INTERNA...|  20001230|SECAO DE ARQUIVO ...|      A|LUIZ DIAS DE ANDR...|                 ...|\n",
            "|1993-03-09|25380.000537/1989...|024.3   -DESVIO D...|2009-02-12| 35000000|AUDITORIA INTERNA...|  20001230|SECAO DE ARQUIVO ...|      A|LUIZ DIAS DE ANDR...|                 ...|\n",
            "|1993-03-09|25380.000537/1989...|024.3   -DESVIO D...|2009-02-12| 35000000|AUDITORIA INTERNA...|  20001230|SECAO DE ARQUIVO ...|      A|LUIZ DIAS DE ANDR...|                 ...|\n",
            "+----------+--------------------+--------------------+----------+---------+--------------------+----------+--------------------+-------+--------------------+--------------------+\n",
            "only showing top 20 rows\n",
            "\n",
            "+----------+--------------------+--------------------+----------+---------+--------------------+----------+--------------------+-------+--------------------+--------------------+\n",
            "|DTABERTURA|             NUMPROC|             ASSUNTO|   DTMOVIM|CODORIGEM|             DESCORI|CODDESTINO|          DESCDESTIN|MOVSTAT|         INTERESSADO|         PROCEDENCIA|\n",
            "+----------+--------------------+--------------------+----------+---------+--------------------+----------+--------------------+-------+--------------------+--------------------+\n",
            "|1989-12-06|25000.016551/1989...|022.22  -APOSENTA...|1990-02-19| 20002230|SECAO DE PROTOCOL...|   3000000|DIRETORIA REGIONA...|      S|MARIA FERNANDES G...|                 ...|\n",
            "|1989-12-06|25000.016553/1989...|022.22  -APOSENTA...|1990-01-17| 20002230|SECAO DE PROTOCOL...|   3000000|DIRETORIA REGIONA...|      S|MARIA FERNANDES G...|                 ...|\n",
            "|1989-12-06|25000.016554/1989...|022.22  -APOSENTA...|1990-01-17| 20002230|SECAO DE PROTOCOL...|   3000000|DIRETORIA REGIONA...|      S|MARIA FERNANDES G...|                 ...|\n",
            "|1989-12-06|25000.016555/1989...|022.22  -APOSENTA...|1990-02-23| 20002230|SECAO DE PROTOCOL...|   3000000|DIRETORIA REGIONA...|      S|MARIA FERNANDES G...|                 ...|\n",
            "|1989-12-18|25000.017139/1989...|022.22  -APOSENTA...|1991-10-01| 20002230|SECAO DE PROTOCOL...|  39000000|ORGAO GOVERNAMENT...|      S|MARIA FERNANDES G...|                 ...|\n",
            "|1989-03-07|25001.000297/1989...|        -APOSENTA...|1992-01-30| 20002230|SECAO DE PROTOCOL...|   8101600|SERVICO DE ADM. D...|      S|ANTONIO CARLOS MO...|                 ...|\n",
            "|1989-03-30|25001.000399/1989...|        -APOSENTA...|1992-02-10| 20002230|SECAO DE PROTOCOL...|   8101600|SERVICO DE ADM. D...|      S|ANTONIO CARLOS MO...|                 ...|\n",
            "|1989-04-06|25001.000484/1989...|        -APOSENTA...|1989-05-29| 20002230|SECAO DE PROTOCOL...|  39000000|ORGAO GOVERNAMENT...|      S|ANTONIO CARLOS MO...|                 ...|\n",
            "|1989-06-12|25001.001037/1989...|        -APOSENTA...|1992-02-10| 20002230|SECAO DE PROTOCOL...|   8101600|SERVICO DE ADM. D...|      S|ANTONIO CARLOS MO...|                 ...|\n",
            "|1989-08-15|25001.001249/1989...|        -APOSENTA...|1991-09-13| 20002230|SECAO DE PROTOCOL...|  39000000|ORGAO GOVERNAMENT...|      S|ANTONIO CARLOS MO...|                 ...|\n",
            "+----------+--------------------+--------------------+----------+---------+--------------------+----------+--------------------+-------+--------------------+--------------------+\n",
            "\n"
          ]
        }
      ]
    },
    {
      "cell_type": "code",
      "source": [
        "df.write.parquet(\"/home/etl/processos_temp/\")"
      ],
      "metadata": {
        "id": "PE16OuohrlAD"
      },
      "execution_count": 41,
      "outputs": []
    },
    {
      "cell_type": "code",
      "source": [
        "temp_folder = '/home/etl/processos_temp/'\n",
        "destination_folder = '/home/etl/procesosparquet/'\n",
        "\n",
        "os.makedirs(destination_folder, exist_ok=True)\n",
        "\n",
        "file_counter = 1\n",
        "\n",
        "for file_name in os.listdir(temp_folder):\n",
        "    if file_name.endswith(\".parquet\"):\n",
        "        source_file = os.path.join(temp_folder, file_name)\n",
        "\n",
        "        destination_file = os.path.join(destination_folder, f\"processos_{file_counter}.parquet\")\n",
        "\n",
        "        try:\n",
        "            shutil.move(source_file, destination_file)\n",
        "            file_counter += 1\n",
        "        except FileNotFoundError as e:\n",
        "            print(f\"Erro ao mover o arquivo {source_file}: {e}\")\n",
        "        except Exception as e:\n",
        "            print(f\"Erro inesperado: {e}\")\n",
        "\n",
        "try:\n",
        "    shutil.rmtree(temp_folder)\n",
        "except FileNotFoundError as e:\n",
        "    print(f\"Erro ao remover a pasta temporária: {e}\")\n",
        "\n",
        "print(\"Todos os arquivos foram salvos com sucesso e renomeados.\")"
      ],
      "metadata": {
        "id": "zwMG5U-mw9Nb"
      },
      "execution_count": null,
      "outputs": []
    },
    {
      "cell_type": "code",
      "source": [
        "df = spark.read \\\n",
        "    .format(\"parquet\") \\\n",
        "    .load(\"/home/etl/procesosparquet\")\n",
        "\n",
        "df.count()"
      ],
      "metadata": {
        "id": "8NPDduLrs7nj"
      },
      "execution_count": null,
      "outputs": []
    },
    {
      "cell_type": "code",
      "source": [
        "#Tamanho do Arquivo Parquet\n",
        "def get_size_of_folder_in_kb(folder_path):\n",
        "    total_size = 0\n",
        "    for dirpath, dirnames, filenames in os.walk(folder_path):\n",
        "        for filename in filenames:\n",
        "            if filename.endswith(\".parquet\"):\n",
        "                file_path = os.path.join(dirpath, filename)\n",
        "                total_size += os.path.getsize(file_path)\n",
        "    return total_size / 1024\n",
        "\n",
        "folder_path = '/home/etl/procesosparquet'\n",
        "total_size_kb = get_size_of_folder_in_kb(folder_path)\n",
        "\n",
        "print(f\"Tamanho total dos arquivos Parquet: {total_size_kb:.2f} KB\")"
      ],
      "metadata": {
        "id": "DHWKCuJC2Wiy"
      },
      "execution_count": null,
      "outputs": []
    }
  ]
}